{
 "cells": [
  {
   "cell_type": "markdown",
   "id": "7e7543e2-a7b7-4eb5-b4df-ee61e2187830",
   "metadata": {},
   "source": [
    "### 图神经网络环境配置，参见 https://www.bilibili.com/video/BV1184y1x71H?p=11"
   ]
  },
  {
   "cell_type": "code",
   "execution_count": 1,
   "id": "12a4dfa1-1d3a-44b4-8a3b-2f0edad319f9",
   "metadata": {
    "tags": [],
    "ExecuteTime": {
     "end_time": "2024-04-22T13:14:40.711685Z",
     "start_time": "2024-04-22T13:14:38.796996Z"
    }
   },
   "outputs": [
    {
     "data": {
      "text/plain": "device(type='cpu')"
     },
     "execution_count": 1,
     "metadata": {},
     "output_type": "execute_result"
    }
   ],
   "source": [
    "import os\n",
    "import numpy as np\n",
    "import pandas as pd\n",
    "import os\n",
    "import pandas as pd\n",
    "from scipy.io import loadmat\n",
    "import networkx as nx\n",
    "import matplotlib.pyplot as plt\n",
    "import torch\n",
    "from torch_geometric.data import InMemoryDataset, Data\n",
    "from tqdm import tqdm\n",
    "from torch_geometric.loader import DataLoader\n",
    "from sklearn.metrics import precision_score, f1_score, recall_score, accuracy_score\n",
    "from torch_geometric.nn import TopKPooling,SAGEConv, GCNConv, SAGPooling\n",
    "from torch_geometric.nn import global_mean_pool as gap, global_max_pool as  gmp\n",
    "from torch.nn import Linear,BatchNorm1d, ReLU\n",
    "import torch.nn.functional as F\n",
    "from imblearn.under_sampling import RandomUnderSampler\n",
    "\n",
    "device = torch.device(\"mps\" if torch.cuda.is_available() else \"cpu\")\n",
    "device"
   ]
  },
  {
   "cell_type": "markdown",
   "id": "e8e3166d-a535-4f9e-a027-dfd958c13cd1",
   "metadata": {},
   "source": [
    "## 参数"
   ]
  },
  {
   "cell_type": "code",
   "execution_count": 2,
   "id": "1747f139-207a-4df3-807e-ba312940abd7",
   "metadata": {
    "ExecuteTime": {
     "end_time": "2024-04-22T13:14:40.712104Z",
     "start_time": "2024-04-22T13:14:40.710525Z"
    }
   },
   "outputs": [],
   "source": [
    "epoch_num = 30  # 训练轮数\n",
    "lr = 0.001      # 学习率\n",
    "bs = 64         # 批次大小\n",
    "isCause = False # 是否加入因果关系\n",
    "\n",
    "dataset_root = '../Data' # 数据存放目录"
   ]
  },
  {
   "cell_type": "markdown",
   "id": "1be218d1-c38b-471f-8b6c-6c8ece728c40",
   "metadata": {},
   "source": [
    "## 因果关系的加入\n",
    "注意：节点必须从0开始标号"
   ]
  },
  {
   "cell_type": "code",
   "execution_count": 3,
   "id": "5993ffb9-c0ee-4149-982c-b3c63241bab9",
   "metadata": {
    "tags": [],
    "ExecuteTime": {
     "end_time": "2024-04-22T13:14:40.714035Z",
     "start_time": "2024-04-22T13:14:40.710875Z"
    }
   },
   "outputs": [],
   "source": [
    "def get_edge_index_and_edge_attr(ex_type):\n",
    "    # source_nodes->target_nodes对应着一条有向边，而edge_attr为此条有向边的权值,无向图代表两个方向都有边\n",
    "    source_nodes = [0, 1, 0, 4, 0, 7, 1, 2, 2, 3, 4, 5, 5, 6, 7, 8, 8, 9, 8, 14, 8, 19, 9, 10, 10, 11, 11, 12, 12, 13, 14, 15, 15, 16, 16, 17, 17, 18, 19, 20, 20, 21]\n",
    "    target_nodes = [1, 0, 4, 0, 7, 0, 2, 1, 3, 2, 5, 4, 6, 5, 8, 7, 9, 8, 14, 8, 19, 8, 10, 9, 11, 10, 12, 11, 13, 12, 15, 14, 16, 15, 17, 16, 18, 17, 20, 19, 21, 20]\n",
    "    edge_attr = None\n",
    "    if isCause:\n",
    "        # one leg stand\n",
    "        if ex_type == 1:\n",
    "            source_nodes = [0, 1, 2, 4, 6, 7, 8, 8 , 8 , 9, 10, 11, 12, 15, 15, 16, 17, 19, 19, 21]\n",
    "            target_nodes = [4, 0, 3, 5, 5, 0, 7, 9, 14, 10, 11, 12, 13, 14, 16, 17, 18, 8 , 20, 20]\n",
    "            edge_attr = None\n",
    "    edge_index = torch.tensor([source_nodes, target_nodes], dtype=torch.long)\n",
    "    return edge_index, edge_attr"
   ]
  },
  {
   "cell_type": "markdown",
   "id": "f7ff3b60-f1fe-4980-aa94-8f610d975f96",
   "metadata": {
    "tags": []
   },
   "source": [
    "## 数据处理部分\n",
    "注意：如果图结构发生改变，请删除数据根目录/processed/下的缓存文件，以重新进行数据处理"
   ]
  },
  {
   "cell_type": "code",
   "execution_count": 4,
   "id": "1adfbbd6-edfe-47b5-8137-acfaf46a6900",
   "metadata": {
    "tags": [],
    "ExecuteTime": {
     "end_time": "2024-04-22T13:14:47.479630Z",
     "start_time": "2024-04-22T13:14:40.719432Z"
    }
   },
   "outputs": [
    {
     "name": "stderr",
     "output_type": "stream",
     "text": [
      "Processing...\n"
     ]
    },
    {
     "name": "stdout",
     "output_type": "stream",
     "text": [
      "isCause: False\n",
      "len of train_dataset: 48786\n",
      "len of test_dataset : 12197\n"
     ]
    },
    {
     "name": "stderr",
     "output_type": "stream",
     "text": [
      "Done!\n"
     ]
    }
   ],
   "source": [
    "# 这个类继承自InMemoryDataset，专门处理中小型数据集\n",
    "class BinaryDataset(InMemoryDataset):\n",
    "    def __init__(self, root, transform=None, pre_transform=None, pre_filter=None):\n",
    "        super().__init__(root, transform, pre_transform, pre_filter)\n",
    "        self.load(self.processed_paths[0])\n",
    "\n",
    "    @property\n",
    "    def raw_file_names(self):\n",
    "        return []\n",
    "    # 如果根目录下的processed文件夹下已经尤处理好的图数据，则直接读取\n",
    "    @property\n",
    "    def processed_file_names(self):\n",
    "        if isCause:\n",
    "            return ['cause.dataset']\n",
    "        else:\n",
    "            return ['base.dataset',]\n",
    "    def download(self):\n",
    "        # Download to `self.raw_dir`.\n",
    "        pass\n",
    "\n",
    "    def process(self):\n",
    "        \"\"\"\n",
    "        Load Data Seperate All data in Protective and Non-Prtective Data\n",
    "        \"\"\"\n",
    "        # Assuming the 'Data' folder is in the current working directory\n",
    "        data_folders = [dataset_root]\n",
    "\n",
    "        # Initialize lists to store the separated dataframes\n",
    "        protective_dfs = []\n",
    "        non_protective_dfs = []\n",
    "\n",
    "        # Loop through each data folder\n",
    "        for data_folder in data_folders:\n",
    "            # List all .mat files in the current data folder\n",
    "            mat_files = [f for f in os.listdir(data_folder) if f.endswith('.mat')]\n",
    "            # Load each mat file\n",
    "            for mat_file in mat_files:\n",
    "                # Construct the full path to the .mat file\n",
    "                mat_path = os.path.join(data_folder, mat_file)\n",
    "                # Load the .mat file\n",
    "                mat_data = loadmat(mat_path)\n",
    "                # Convert the data into a pandas dataframe\n",
    "                df = pd.DataFrame(mat_data['data'])\n",
    "                # Select only the first 70 columns and the last column (73rd) which contains the behavior label\n",
    "                df = df.iloc[:, list(range(66)) + [70] + [72]]\n",
    "                # Split the data based on the protective behavior label\n",
    "                # Assuming the last column in df is the protective behavior label\n",
    "                protective_behavior = df.iloc[:, -1]\n",
    "                protective_df = df[protective_behavior == 1]\n",
    "                non_protective_df = df[protective_behavior == 0]\n",
    "                # Append the resulting dataframes to their respective lists\n",
    "                protective_dfs.append(protective_df)\n",
    "                non_protective_dfs.append(non_protective_df)\n",
    "\n",
    "        # Concatenate all protective and non-protective dataframes\n",
    "        all_protective_data = pd.concat(protective_dfs, axis=0, ignore_index=True)\n",
    "        all_non_protective_data = pd.concat(non_protective_dfs, axis=0, ignore_index=True)\n",
    "\n",
    "        # Now `all_protective_data` and `all_non_protective_data` hold the protective and non-protective data respectively\n",
    "        # You can process these dataframes as needed for your analysis or save them to new .mat files\n",
    "        # 保护和非保护数据个数 (77298, 68) (437247, 68)\n",
    "        # 数据合并\n",
    "        all_data = np.concatenate([all_protective_data,all_non_protective_data],axis=0)\n",
    "        # 提取运动类型和保护性行为列\n",
    "        ys = all_data[:,-2:]\n",
    "        # 将特征列构建为N*V*C的形式，其中N=图个数（一条数据就可以看作一个图），V代表节点个数， C代表每个节点的特征个数\n",
    "        x = all_data[:,np.newaxis,[0,22,44]]\n",
    "        for node in range(2, 23):\n",
    "            x_index = node - 1\n",
    "            y_index = x_index + 22\n",
    "            z_index = x_index + 44\n",
    "            temp = all_data[:,np.newaxis,[x_index,y_index,z_index]]\n",
    "            x = np.concatenate([x,temp], axis=1)\n",
    "        # 将边整理为GNN要求的格式，边索引必须从0开始\n",
    "       \n",
    "        # 构建数据列表\n",
    "        data_list = []\n",
    "        # 一条数据构建为一个图\n",
    "        for i in range(x.shape[0]):\n",
    "            y = torch.tensor([ys[i,-1]], dtype=torch.float)   \n",
    "            # 根据数据所属运动类型获得其拓扑结构\n",
    "            edge_index, edge_attr = get_edge_index_and_edge_attr(ys[i,-2])\n",
    "            if ys[i,-2] == 1:\n",
    "                data = Data(x=torch.tensor(x[i], dtype=torch.float), edge_index=edge_index, edge_attr=edge_attr, y=y)\n",
    "                data_list.append(data)\n",
    "        # 将处理后的数据存储至指定根目录下\n",
    "        data, slices = self.collate(data_list)\n",
    "        torch.save((data, slices), self.processed_paths[0])\n",
    "            \n",
    "        \n",
    "# 加载并分割数据集      \n",
    "def load_data_and_split(dataset_root):\n",
    "    # 数据打乱\n",
    "    dataset = BinaryDataset(root=dataset_root)\n",
    "    # 随机打乱\n",
    "    dataset = dataset.shuffle()\n",
    "    # 数据划分逻辑\n",
    "    num_graphs = len(dataset)\n",
    "    train_size = int(num_graphs * 0.8)\n",
    "    # train_size = int(num_graphs * 0.01)\n",
    "    \n",
    "    # 创建训练集和测试集的子集索引\n",
    "    train_indices = list(range(train_size))\n",
    "    test_indices = list(range(train_size, num_graphs))\n",
    "    \n",
    "    # 使用torch_geometric.data.Subset来划分数据\n",
    "    train_dataset = dataset.index_select(train_indices)\n",
    "    test_dataset = dataset.index_select(test_indices)\n",
    "    print(\"isCause:\",isCause)\n",
    "    print(\"len of train_dataset:\",len(train_dataset))\n",
    "    print(\"len of test_dataset :\",len(test_dataset))\n",
    "    # 创建DataLoaders\n",
    "    train_loader = DataLoader(train_dataset, batch_size=bs, shuffle=True)\n",
    "    test_loader = DataLoader(test_dataset, batch_size=bs, shuffle=False)\n",
    "    \n",
    "    return train_loader, test_loader\n",
    "\n",
    "train_loader, test_loader =  load_data_and_split(dataset_root)"
   ]
  },
  {
   "cell_type": "markdown",
   "id": "4d1ef746-3330-4fff-8f59-990873a0d412",
   "metadata": {
    "tags": []
   },
   "source": [
    "## 模型定义\n",
    "模块参见文档 https://pytorch-geometric.readthedocs.io/en/latest/"
   ]
  },
  {
   "cell_type": "code",
   "execution_count": 5,
   "id": "2dadda6c-4d5c-4e06-bf0e-7cb1eab2304a",
   "metadata": {
    "tags": [],
    "ExecuteTime": {
     "end_time": "2024-04-22T13:14:47.484683Z",
     "start_time": "2024-04-22T13:14:47.481637Z"
    }
   },
   "outputs": [],
   "source": [
    "class Net(torch.nn.Module):\n",
    "    def __init__(self):\n",
    "        super(Net, self).__init__()\n",
    "        \n",
    "        self.conv1 = GCNConv(3,64)\n",
    "        self.pool1 = TopKPooling(64, ratio=0.8)\n",
    "        self.conv2 = GCNConv(64,64)\n",
    "        self.pool2 = TopKPooling(64, ratio=0.8)\n",
    "        self.conv3 = GCNConv(64,64)\n",
    "        self.pool3 = TopKPooling(64, ratio=0.8)\n",
    "        self.lin1 = Linear(64,64)\n",
    "        self.lin2 = Linear(64,32)\n",
    "        self.lin3 = Linear(32,1)\n",
    "        # self.bn1 = BatchNorm1d(64)\n",
    "        # self.bn2 = BatchNorm1d(32)\n",
    "        self.act1 = ReLU()\n",
    "        self.act2 = ReLU()\n",
    "\n",
    "    \n",
    "    def forward(self, data):\n",
    "        x, edge_index, batch, edge_attr = data.x, data.edge_index, data.batch, data.edge_attr\n",
    "\n",
    "        x = x.clone().detach().requires_grad_(True)\n",
    "        x = F.relu(self.conv1(x, edge_index, edge_attr))\n",
    "        # x, edge_index, _, batch, _, _ = self.pool1(x, edge_index, edge_attr, batch)\n",
    "        x1 = gap(x, batch)\n",
    "        \n",
    "        x = F.relu(self.conv2(x, edge_index, edge_attr))\n",
    "        x, edge_index, _, batch, _, _ = self.pool2(x, edge_index, edge_attr, batch)\n",
    "        x2 = gap(x, batch)\n",
    "        \n",
    "        # x = F.relu(self.conv3(x, edge_index))\n",
    "        # x, edge_index, _, batch, _, _ = self.pool3(x, edge_index, None, batch)\n",
    "        # x3 = gap(x, batch)  \n",
    "        \n",
    "        x = x1 + x2\n",
    "        x = self.lin1(x)\n",
    "        x = self.act1(x)\n",
    "        x = self.lin2(x)\n",
    "        x = self.act2(x)\n",
    "        x = F.dropout(x, p=0.5, training=self.training)\n",
    "        \n",
    "        # 输出值为0-1之间 （0为非保护 1为保护）\n",
    "        x = torch.sigmoid(self.lin3(x)).squeeze(1)\n",
    "        return x     "
   ]
  },
  {
   "cell_type": "markdown",
   "id": "86e7da7e-d8ca-45fb-ae4a-2e407ad4f45b",
   "metadata": {},
   "source": [
    "## 模型训练和测试"
   ]
  },
  {
   "cell_type": "code",
   "execution_count": 6,
   "id": "a68cb5da-0b83-4951-890e-0fcabdaeed9f",
   "metadata": {
    "tags": [],
    "ExecuteTime": {
     "end_time": "2024-04-22T13:20:27.606480Z",
     "start_time": "2024-04-22T13:14:47.486864Z"
    }
   },
   "outputs": [
    {
     "name": "stdout",
     "output_type": "stream",
     "text": [
      "Epoch: 001  -------------------------- \n",
      "Train: accuracy: 0.8789, Macro Precision: 0.8935, F1: 0.6675, recall: 0.5259  \n",
      "Test : accuracy: 0.8786, Macro Precision: 0.8933, F1: 0.6661, recall: 0.5242\n",
      "Epoch: 002  -------------------------- \n",
      "Train: accuracy: 0.8812, Macro Precision: 0.8873, F1: 0.6812, recall: 0.5496  \n",
      "Test : accuracy: 0.8812, Macro Precision: 0.8867, F1: 0.6821, recall: 0.5513\n",
      "Epoch: 003  -------------------------- \n",
      "Train: accuracy: 0.8804, Macro Precision: 0.8875, F1: 0.6779, recall: 0.5447  \n",
      "Test : accuracy: 0.8801, Macro Precision: 0.8875, F1: 0.6766, recall: 0.5429\n",
      "Epoch: 004  -------------------------- \n",
      "Train: accuracy: 0.8800, Macro Precision: 0.8881, F1: 0.6757, recall: 0.5411  \n",
      "Test : accuracy: 0.8798, Macro Precision: 0.8881, F1: 0.6751, recall: 0.5402\n",
      "Epoch: 005  -------------------------- \n",
      "Train: accuracy: 0.8821, Macro Precision: 0.8862, F1: 0.6859, recall: 0.5572  \n",
      "Test : accuracy: 0.8823, Macro Precision: 0.8856, F1: 0.6874, recall: 0.5598\n",
      "Epoch: 006  -------------------------- \n",
      "Train: accuracy: 0.8837, Macro Precision: 0.8843, F1: 0.6941, recall: 0.5708  \n",
      "Test : accuracy: 0.8838, Macro Precision: 0.8839, F1: 0.6950, recall: 0.5726\n",
      "Epoch: 007  -------------------------- \n",
      "Train: accuracy: 0.8850, Macro Precision: 0.8829, F1: 0.7005, recall: 0.5820  \n",
      "Test : accuracy: 0.8852, Macro Precision: 0.8826, F1: 0.7014, recall: 0.5836\n",
      "Epoch: 008  -------------------------- \n",
      "Train: accuracy: 0.8854, Macro Precision: 0.8825, F1: 0.7025, recall: 0.5854  \n",
      "Test : accuracy: 0.8854, Macro Precision: 0.8824, F1: 0.7025, recall: 0.5854\n",
      "Epoch: 009  -------------------------- \n",
      "Train: accuracy: 0.8857, Macro Precision: 0.8825, F1: 0.7037, recall: 0.5873  \n",
      "Test : accuracy: 0.8857, Macro Precision: 0.8824, F1: 0.7038, recall: 0.5874\n",
      "Epoch: 010  -------------------------- \n",
      "Train: accuracy: 0.8859, Macro Precision: 0.8825, F1: 0.7045, recall: 0.5885  \n",
      "Test : accuracy: 0.8859, Macro Precision: 0.8825, F1: 0.7045, recall: 0.5885\n",
      "Epoch: 011  -------------------------- \n",
      "Train: accuracy: 0.8866, Macro Precision: 0.8821, F1: 0.7078, recall: 0.5940  \n",
      "Test : accuracy: 0.8867, Macro Precision: 0.8819, F1: 0.7083, recall: 0.5950\n",
      "Epoch: 012  -------------------------- \n",
      "Train: accuracy: 0.8872, Macro Precision: 0.8819, F1: 0.7103, recall: 0.5982  \n",
      "Test : accuracy: 0.8873, Macro Precision: 0.8818, F1: 0.7106, recall: 0.5987\n",
      "Epoch: 013  -------------------------- \n",
      "Train: accuracy: 0.8877, Macro Precision: 0.8816, F1: 0.7123, recall: 0.6017  \n",
      "Test : accuracy: 0.8877, Macro Precision: 0.8814, F1: 0.7125, recall: 0.6022\n",
      "Epoch: 014  -------------------------- \n",
      "Train: accuracy: 0.8904, Macro Precision: 0.8806, F1: 0.7240, recall: 0.6220  \n",
      "Test : accuracy: 0.8910, Macro Precision: 0.8804, F1: 0.7266, recall: 0.6267\n",
      "Epoch: 015  -------------------------- \n",
      "Train: accuracy: 0.8930, Macro Precision: 0.8804, F1: 0.7344, recall: 0.6402  \n",
      "Test : accuracy: 0.8935, Macro Precision: 0.8804, F1: 0.7362, recall: 0.6433\n",
      "Epoch: 016  -------------------------- \n",
      "Train: accuracy: 0.8952, Macro Precision: 0.8796, F1: 0.7436, recall: 0.6577  \n",
      "Test : accuracy: 0.8956, Macro Precision: 0.8794, F1: 0.7453, recall: 0.6610\n",
      "Epoch: 017  -------------------------- \n",
      "Train: accuracy: 0.8972, Macro Precision: 0.8789, F1: 0.7519, recall: 0.6740  \n",
      "Test : accuracy: 0.8976, Macro Precision: 0.8788, F1: 0.7534, recall: 0.6771\n",
      "Epoch: 018  -------------------------- \n",
      "Train: accuracy: 0.8980, Macro Precision: 0.8762, F1: 0.7574, recall: 0.6887  \n",
      "Test : accuracy: 0.8981, Macro Precision: 0.8756, F1: 0.7582, recall: 0.6914\n",
      "Epoch: 019  -------------------------- \n",
      "Train: accuracy: 0.8978, Macro Precision: 0.8725, F1: 0.7600, recall: 0.7001  \n",
      "Test : accuracy: 0.8977, Macro Precision: 0.8718, F1: 0.7604, recall: 0.7022\n",
      "Epoch: 020  -------------------------- \n",
      "Train: accuracy: 0.8982, Macro Precision: 0.8703, F1: 0.7636, recall: 0.7116  \n",
      "Test : accuracy: 0.8983, Macro Precision: 0.8699, F1: 0.7643, recall: 0.7138\n",
      "Epoch: 021  -------------------------- \n",
      "Train: accuracy: 0.8990, Macro Precision: 0.8692, F1: 0.7679, recall: 0.7230  \n",
      "Test : accuracy: 0.8992, Macro Precision: 0.8690, F1: 0.7687, recall: 0.7251\n",
      "Epoch: 022  -------------------------- \n",
      "Train: accuracy: 0.8995, Macro Precision: 0.8679, F1: 0.7712, recall: 0.7330  \n",
      "Test : accuracy: 0.8996, Macro Precision: 0.8676, F1: 0.7718, recall: 0.7349\n",
      "Epoch: 023  -------------------------- \n",
      "Train: accuracy: 0.9001, Macro Precision: 0.8669, F1: 0.7746, recall: 0.7427  \n",
      "Test : accuracy: 0.9002, Macro Precision: 0.8668, F1: 0.7752, recall: 0.7445\n",
      "Epoch: 024  -------------------------- \n",
      "Train: accuracy: 0.9007, Macro Precision: 0.8662, F1: 0.7778, recall: 0.7520  \n",
      "Test : accuracy: 0.9008, Macro Precision: 0.8660, F1: 0.7784, recall: 0.7538\n",
      "Epoch: 025  -------------------------- \n",
      "Train: accuracy: 0.9013, Macro Precision: 0.8657, F1: 0.7805, recall: 0.7596  \n",
      "Test : accuracy: 0.9014, Macro Precision: 0.8657, F1: 0.7810, recall: 0.7610\n",
      "Epoch: 026  -------------------------- \n",
      "Train: accuracy: 0.9016, Macro Precision: 0.8651, F1: 0.7827, recall: 0.7665  \n",
      "Test : accuracy: 0.9017, Macro Precision: 0.8649, F1: 0.7830, recall: 0.7679\n",
      "Epoch: 027  -------------------------- \n",
      "Train: accuracy: 0.9021, Macro Precision: 0.8647, F1: 0.7850, recall: 0.7734  \n",
      "Test : accuracy: 0.9022, Macro Precision: 0.8647, F1: 0.7855, recall: 0.7747\n",
      "Epoch: 028  -------------------------- \n",
      "Train: accuracy: 0.9026, Macro Precision: 0.8645, F1: 0.7871, recall: 0.7795  \n",
      "Test : accuracy: 0.9027, Macro Precision: 0.8645, F1: 0.7875, recall: 0.7806\n",
      "Epoch: 029  -------------------------- \n",
      "Train: accuracy: 0.9024, Macro Precision: 0.8633, F1: 0.7882, recall: 0.7853  \n",
      "Test : accuracy: 0.9024, Macro Precision: 0.8631, F1: 0.7883, recall: 0.7865\n"
     ]
    }
   ],
   "source": [
    "\n",
    "def train(train_loader):\n",
    "    model.train()\n",
    "    for data in train_loader:\n",
    "        data = data.to(device)\n",
    "        optimizer.zero_grad()\n",
    "        output = model(data)\n",
    "        label = data.y.to(device)\n",
    "        loss = crit(output, label)\n",
    "        loss.backward()\n",
    "        optimizer.step()\n",
    "y_true = []\n",
    "y_pred = []\n",
    "def test(loader):\n",
    "    model.eval()\n",
    "\n",
    "\n",
    "    with torch.no_grad():  # 在评估模式下不计算梯度\n",
    "        for data in loader:\n",
    "            data = data.to(device)\n",
    "            out = model(data)  # 前向传播\n",
    "            pred = (out >= 0.5).int()\n",
    "\n",
    "            y_true.extend(data.y.clone().detach().tolist())  # 收集真实标签\n",
    "            y_pred.extend(pred.clone().detach().tolist())  # 收集预测标签\n",
    "    \n",
    "    accuracy = accuracy_score(y_true, y_pred)\n",
    "    macro_precision = precision_score(y_true, y_pred,  pos_label=1, average='macro') \n",
    "    \n",
    "    f1 = f1_score(y_true, y_pred, pos_label=1)  # Only report results for the class specified by pos_label. 考虑了非平衡\n",
    "    recall = recall_score(y_true, y_pred, pos_label=1)\n",
    "    return accuracy, macro_precision, f1, recall\n",
    "\n",
    "model = Net().to(device)\n",
    "optimizer = torch.optim.Adam(model.parameters(), lr=lr)\n",
    "crit = torch.nn.BCELoss()\n",
    "for epoch in range(1, epoch_num):\n",
    "    train(train_loader)\n",
    "    train_accuracy, train_macro_precision, train_f1, train_recall = test(train_loader)\n",
    "    test_accuracy,  test_macro_precision,  test_f1 , test_recall  = test(test_loader)\n",
    "    \n",
    "    print(f'Epoch: {epoch:03d}  -------------------------- '\n",
    "          f'\\nTrain: accuracy: {train_accuracy:.4f}, Macro Precision: {train_macro_precision:.4f}, F1: {train_f1:.4f}, recall: {train_recall:.4f}  '\n",
    "          f'\\nTest : accuracy: {test_accuracy:.4f}, Macro Precision: {test_macro_precision:.4f}, F1: {test_f1:.4f}, recall: {test_recall:.4f}')"
   ]
  },
  {
   "cell_type": "code",
   "execution_count": null,
   "outputs": [],
   "source": [
    "import matplotlib.pyplot as plt\n",
    "\n",
    "# Data for each metric by epoch\n",
    "epochs = range(1, 30)\n",
    "\n",
    "#Base\n",
    "train_accuracy_base = [0.8771, 0.8760, 0.8787, 0.9007, 0.9044, 0.9071, 0.9142, 0.9238, 0.9294, 0.9124, 0.9133, 0.9376, 0.9387, 0.9372, 0.9360, 0.9200, 0.9386, 0.9389, 0.9326, 0.9003, 0.9328, 0.9377, 0.9402, 0.9256, 0.9198, 0.9275, 0.9227, 0.9266, 0.9300]\n",
    "test_accuracy_base= [0.8806, 0.8796, 0.8815, 0.9051, 0.9056, 0.9103, 0.9170, 0.9260, 0.9314, 0.9156, 0.9165, 0.9403, 0.9412, 0.9401, 0.9369, 0.9251, 0.9411, 0.9422, 0.9319, 0.9057, 0.9325, 0.9431, 0.9435, 0.9289, 0.9206, 0.9283, 0.9252, 0.9287, 0.9329]\n",
    "train_precision_base = [0.8879, 0.8912, 0.8867, 0.8745, 0.8786, 0.8599, 0.8779, 0.8911, 0.8903, 0.8654, 0.8640, 0.9001, 0.8987, 0.8985, 0.9020, 0.8846, 0.9008, 0.8993, 0.8967, 0.8490, 0.8916, 0.9019, 0.9018, 0.8796, 0.8884, 0.8869, 0.8861, 0.8850, 0.8910]\n",
    "test_precision_base = [0.8954, 0.8989, 0.8931, 0.8811, 0.8803, 0.8633, 0.8818, 0.8953, 0.8925, 0.8692, 0.8671, 0.9037, 0.9017, 0.9020, 0.9031, 0.8914, 0.9044, 0.9033, 0.8957, 0.8549, 0.8907, 0.9094, 0.9057, 0.8833, 0.8892, 0.8879, 0.8899, 0.8875, 0.8954]\n",
    "train_f1_base = [0.6643, 0.6573, 0.6722, 0.7696, 0.7797, 0.8141, 0.8161, 0.8369, 0.8565, 0.8271, 0.8376, 0.8738, 0.8788, 0.8740, 0.8674, 0.8299, 0.8763, 0.8787, 0.8610, 0.8101, 0.8668, 0.8725, 0.8806, 0.8577, 0.8255, 0.8538, 0.8378, 0.8528, 0.8578]\n",
    "test_f1_base  = [0.6707, 0.6642, 0.6761, 0.7780, 0.7805, 0.8194, 0.8204, 0.8392, 0.8593, 0.8317, 0.8420, 0.8780, 0.8826, 0.8787, 0.8678, 0.8392, 0.8797, 0.8843, 0.8579, 0.8180, 0.8652, 0.8822, 0.8862, 0.8626, 0.8261, 0.8538, 0.8411, 0.8554, 0.8617]\n",
    "train_recall_base = [0.5255, 0.5139, 0.5373, 0.7169, 0.7311, 0.8790, 0.8230, 0.8446, 0.9102, 0.9061, 0.9664, 0.9339, 0.9602, 0.9417, 0.9037, 0.8433, 0.9406, 0.9573, 0.9017, 0.9183, 0.9447, 0.9218, 0.9529, 0.9686, 0.8204, 0.9144, 0.8627, 0.9187, 0.9120]\n",
    "test_recall_base  = [0.5293, 0.5182, 0.5382, 0.7234, 0.7302, 0.8854, 0.8248, 0.8401, 0.9122, 0.9072, 0.9690, 0.9350, 0.9615, 0.9450, 0.9019, 0.8512, 0.9383, 0.9611, 0.8954, 0.9226, 0.9429, 0.9276, 0.9575, 0.9711, 0.8205, 0.9108, 0.8612, 0.9183, 0.9097]\n",
    "\n",
    "#CGCN\n",
    "train_accuracy_cgcn = [0.8919, 0.8781, 0.8947, 0.8872, 0.9076, 0.9318, 0.9307, 0.9367, 0.9347, 0.9360, 0.9377, 0.9305, 0.9372, 0.9367, 0.9389, 0.9368, 0.9370, 0.9353, 0.9388, 0.9324, 0.9365, 0.9377, 0.9397, 0.9338, 0.9318, 0.9395, 0.9404, 0.9413, 0.9407]\n",
    "test_accuracy_cgcn  = [0.8922, 0.8765, 0.8946, 0.8863, 0.9069, 0.9323, 0.9303, 0.9384, 0.9344, 0.9384, 0.9397, 0.9330, 0.9387, 0.9381, 0.9412, 0.9391, 0.9398, 0.9373, 0.9406, 0.9336, 0.9400, 0.9383, 0.9420, 0.9368, 0.9341, 0.9410, 0.9418, 0.9426, 0.9417]\n",
    "train_precision_cgcn = [0.8772, 0.8898, 0.8799, 0.8829, 0.8881, 0.8941, 0.8874, 0.8960, 0.8930, 0.8954, 0.8980, 0.8933, 0.8973, 0.8983, 0.9005, 0.8967, 0.8970, 0.8935, 0.8974, 0.8876, 0.8947, 0.8956, 0.8985, 0.8962, 0.8950, 0.9014, 0.8999, 0.9011, 0.9003]\n",
    "test_precision_cgcn  = [0.8779, 0.8880, 0.8802, 0.8813, 0.8875, 0.8960, 0.8884, 0.8994, 0.8937, 0.8996, 0.9019, 0.8978, 0.9002, 0.9016, 0.9046, 0.9010, 0.9017, 0.8969, 0.9011, 0.8903, 0.9005, 0.8974, 0.9026, 0.9015, 0.8990, 0.9045, 0.9031, 0.9041, 0.9029]\n",
    "train_f1_cgcn = [0.7316, 0.6655, 0.7405, 0.7085, 0.7821, 0.8599, 0.8636, 0.8744, 0.8708, 0.8727, 0.8753, 0.8563, 0.8744, 0.8721, 0.8768, 0.8739, 0.8741, 0.8724, 0.8799, 0.8702, 0.8750, 0.8782, 0.8817, 0.8643, 0.8591, 0.8779, 0.8822, 0.8841, 0.8830]\n",
    "test_f1_cgcn  = [0.7369, 0.6659, 0.7446, 0.7110, 0.7840, 0.8622, 0.8639, 0.8788, 0.8717, 0.8786, 0.8805, 0.8630, 0.8788, 0.8757, 0.8828, 0.8794, 0.8811, 0.8777, 0.8842, 0.8736, 0.8827, 0.8805, 0.8872, 0.8717, 0.8653, 0.8822, 0.8860, 0.8876, 0.8858]\n",
    "train_recall_cgcn = [0.6393, 0.5260, 0.6517, 0.5944, 0.7197, 0.9075, 0.9522, 0.9554, 0.9548, 0.9509, 0.9492, 0.8984, 0.9486, 0.9354, 0.9437, 0.9496, 0.9493, 0.9592, 0.9721, 0.9828, 0.9643, 0.9740, 0.9743, 0.9152, 0.9018, 0.9441, 0.9690, 0.9713, 0.9704]\n",
    "test_recall_cgcn  = [0.6470, 0.5272, 0.6579, 0.5992, 0.7236, 0.9080, 0.9473, 0.9561, 0.9543, 0.9547, 0.9515, 0.9038, 0.9529, 0.9340, 0.9484, 0.9515, 0.9550, 0.9645, 0.9712, 0.9828, 0.9677, 0.9740, 0.9768, 0.9199, 0.9073, 0.9466, 0.9687, 0.9705, 0.9687]\n",
    "\n",
    "# Plotting\n",
    "fig, axs = plt.subplots(2, 2, figsize=(14, 10))\n",
    "axs = axs.ravel()\n",
    "\n",
    "# Accuracy plot\n",
    "axs[0].plot(epochs, train_accuracy_base, label='Train Accuracy-Baseline')\n",
    "axs[0].plot(epochs, test_accuracy_base, label='Test Accuracy-Baseline')\n",
    "axs[0].plot(epochs, train_accuracy_cgcn, label='Train Accuracy-Causal GCN')\n",
    "axs[0].plot(epochs, test_accuracy_cgcn, label='Test Accuracy-Causal GCN')\n",
    "axs[0].set_title('Accuracy')\n",
    "axs[0].set_xlabel('Epoch')\n",
    "axs[0].set_ylabel('Accuracy')\n",
    "axs[0].legend()\n",
    "\n",
    "# Macro Precision plot\n",
    "axs[1].plot(epochs, train_precision_base, label='Train Macro Precision-Baseline')\n",
    "axs[1].plot(epochs, test_precision_base, label='Test Macro Precision-Baseline')\n",
    "axs[1].plot(epochs, train_precision_cgcn, label='Train Macro Precision-Causal GCN')\n",
    "axs[1].plot(epochs, test_precision_cgcn, label='Test Macro Precision-Causal GCN')\n",
    "axs[1].set_title('Macro Precision')\n",
    "axs[1].set_xlabel('Epoch')\n",
    "axs[1].set_ylabel('Macro Precision')\n",
    "axs[1].legend()\n",
    "\n",
    "# F1 Score plot\n",
    "axs[2].plot(epochs, train_f1_base, label='Train F1-Baseline')\n",
    "axs[2].plot(epochs, test_f1_base, label='Test F1-Baseline')\n",
    "axs[2].plot(epochs, train_f1_cgcn, label='Train F1-Causal GCN')\n",
    "axs[2].plot(epochs, test_f1_cgcn, label='Test F1-Causal GCN')\n",
    "axs[2].set_title('F1 Score')\n",
    "axs[2].set_xlabel('Epoch')\n",
    "axs[2].set_ylabel('F1 Score')\n",
    "axs[2].legend()\n",
    "\n",
    "# Recall plot\n",
    "axs[3].plot(epochs, train_recall_base, label='Train Recall-Baseline')\n",
    "axs[3].plot(epochs, test_recall_base, label='Test Recall-Baseline')\n",
    "axs[3].plot(epochs, train_recall_cgcn, label='Train Recall-Causal GCN')\n",
    "axs[3].plot(epochs, test_recall_cgcn, label='Test Recall-Causal GCN')\n",
    "axs[3].set_title('Recall')\n",
    "axs[3].set_xlabel('Epoch')\n",
    "axs[3].set_ylabel('Recall')\n",
    "axs[3].legend()\n",
    "\n",
    "plt.tight_layout()\n",
    "plt.show()\n"
   ],
   "metadata": {
    "collapsed": false,
    "ExecuteTime": {
     "end_time": "2024-04-22T13:20:27.850800Z",
     "start_time": "2024-04-22T13:20:27.849973Z"
    }
   },
   "id": "bec35a0986a0271b"
  },
  {
   "cell_type": "code",
   "execution_count": null,
   "outputs": [],
   "source": [],
   "metadata": {
    "collapsed": false,
    "ExecuteTime": {
     "end_time": "2024-04-22T13:20:27.851428Z",
     "start_time": "2024-04-22T13:20:27.851061Z"
    }
   },
   "id": "82fde7393443098b"
  }
 ],
 "metadata": {
  "kernelspec": {
   "name": "python3",
   "language": "python",
   "display_name": "Python 3 (ipykernel)"
  },
  "language_info": {
   "codemirror_mode": {
    "name": "ipython",
    "version": 3
   },
   "file_extension": ".py",
   "mimetype": "text/x-python",
   "name": "python",
   "nbconvert_exporter": "python",
   "pygments_lexer": "ipython3",
   "version": "3.8.10"
  }
 },
 "nbformat": 4,
 "nbformat_minor": 5
}
