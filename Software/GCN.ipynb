{
 "cells": [
  {
   "cell_type": "markdown",
   "source": [
    "# GCN Model Structure\n",
    "### 1. 基本图模型的构建\n",
    "- **节点定义**：选择节点代表人体的关节或关键生理变量，确保每个节点在CGCN模型中与因果图中的节点一一对应。\n",
    "- **边的构建**：初步设置基于人体生理结构的边，如骨骼连接或常见的运动协同关节，不预设任何因果方向或强度。这为后续的因果分析提供了一个中立的基础框架。\n",
    "\n",
    "### 2. Causal GCN (CGCN) 模型的开发\n",
    "- **图结构调整**：使用因果图模型确定的因果关系来调整边的定义。例如，如果因果推理指出关节A对关节B有显著影响，则CGCN中A到B会有一个有向边。\n",
    "- **权重调整**：引入从因果图得到的KL散度或其他因果强度度量作为边的权重，使得边权重反映实际的因果关系强度。\n",
    "\n",
    "### 3. 因果强度的定量分析\n",
    "- **因果关系的量化**：使用KL散度评估和比较每对关节间的信息流动性和预测能力，较高的KL散度表明较强的因果关系和信息传递效率。\n",
    "- **模型参数优化**：根据因果强度来初始化和调整CGCN中的权重参数，以提高模型训练的收敛性和预测的准确性。\n",
    "\n",
    "### 4. 模型训练与验证\n",
    "- **损失函数调整**：可能需要修改CGCN的损失函数，加入因果关系的准确性作为一个正则化项，以促进模型在训练过程中重视因果推理的结果。\n",
    "- **动态更新规则**：在模型训练过程中，根据新的实验数据或反馈调整边的权重，特别是因果强度的变化。\n",
    "\n",
    "### 5. 实验设计与测试\n",
    "- **对照组设计**：设置一个基线的GCN模型，用相同的节点和边构建，但不包含因果推理调整的权重，以此来对比CGCN模型的效能。\n",
    "- **性能评估**：通过比较CGCN与基线GCN模型在各种指标上的表现，如准确率、召回率和解释性等，评估因果推理的加入对模型性能的影响。\n"
   ],
   "metadata": {
    "collapsed": false
   },
   "id": "fb495cd741cb0fa5"
  },
  {
   "cell_type": "code",
   "execution_count": null,
   "id": "initial_id",
   "metadata": {
    "collapsed": true
   },
   "outputs": [],
   "source": []
  }
 ],
 "metadata": {
  "kernelspec": {
   "display_name": "Python 3",
   "language": "python",
   "name": "python3"
  },
  "language_info": {
   "codemirror_mode": {
    "name": "ipython",
    "version": 2
   },
   "file_extension": ".py",
   "mimetype": "text/x-python",
   "name": "python",
   "nbconvert_exporter": "python",
   "pygments_lexer": "ipython2",
   "version": "2.7.6"
  }
 },
 "nbformat": 4,
 "nbformat_minor": 5
}
